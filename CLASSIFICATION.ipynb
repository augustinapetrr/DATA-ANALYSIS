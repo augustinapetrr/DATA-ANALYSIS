{
  "nbformat": 4,
  "nbformat_minor": 0,
  "metadata": {
    "colab": {
      "provenance": [],
      "toc_visible": true
    },
    "kernelspec": {
      "name": "python3",
      "display_name": "Python 3"
    },
    "language_info": {
      "name": "python"
    }
  },
  "cells": [
    {
      "cell_type": "code",
      "execution_count": 125,
      "metadata": {
        "id": "9YG5FHOPmwfY"
      },
      "outputs": [],
      "source": [
        "import pandas as pd\n",
        "import numpy as np\n",
        "import matplotlib.pyplot as plt\n",
        "from sklearn.impute import SimpleImputer\n",
        "from sklearn.preprocessing import OneHotEncoder, StandardScaler, LabelEncoder\n",
        "from sklearn.compose import ColumnTransformer\n",
        "from sklearn.pipeline import Pipeline\n",
        "from sklearn.linear_model import LogisticRegression\n",
        "from sklearn.metrics import classification_report, confusion_matrix\n",
        "from sklearn.ensemble import RandomForestClassifier\n",
        "from sklearn.neighbors import KNeighborsClassifier\n",
        "from sklearn.model_selection import train_test_split, GridSearchCV\n",
        "from sklearn.feature_selection import SelectKBest, f_classif\n",
        "import seaborn as sns\n",
        "from sklearn.model_selection import StratifiedKFold"
      ]
    },
    {
      "cell_type": "markdown",
      "source": [
        "# Dataset preparation"
      ],
      "metadata": {
        "id": "lZej0vV2m4gI"
      }
    },
    {
      "cell_type": "code",
      "source": [
        "import kagglehub\n",
        "\n",
        "# Download latest version\n",
        "path = kagglehub.dataset_download(\"mahdimashayekhi/social-media-vs-productivity\")\n",
        "\n",
        "print(\"Path to dataset files:\", path)"
      ],
      "metadata": {
        "colab": {
          "base_uri": "https://localhost:8080/"
        },
        "id": "uJEo9s0Qm7ul",
        "outputId": "1299547e-9d2d-4bb5-8ce7-ed9e08e9068f"
      },
      "execution_count": 126,
      "outputs": [
        {
          "output_type": "stream",
          "name": "stdout",
          "text": [
            "Path to dataset files: /kaggle/input/social-media-vs-productivity\n"
          ]
        }
      ]
    },
    {
      "cell_type": "code",
      "source": [
        "# Load dataset\n",
        "df = pd.read_csv(path + '/social_media_vs_productivity.csv')"
      ],
      "metadata": {
        "id": "NnJSTBSpm-SI"
      },
      "execution_count": 127,
      "outputs": []
    },
    {
      "cell_type": "code",
      "source": [
        "# Remove record with missing values\n",
        "\n",
        "rows_with_missing = df[df.isnull().any(axis=1)]\n",
        "print(f\"Number of rows with missing values: {len(rows_with_missing)}\")\n",
        "\n",
        "df.dropna(inplace=True)\n",
        "\n",
        "print(\"\\nRemaining missing values:\")\n",
        "print(df.isnull().sum().sum())"
      ],
      "metadata": {
        "colab": {
          "base_uri": "https://localhost:8080/"
        },
        "id": "pYn-29cjnBqL",
        "outputId": "7a5bdf3a-a055-4c34-8861-6a715f6ce1b4"
      },
      "execution_count": 128,
      "outputs": [
        {
          "output_type": "stream",
          "name": "stdout",
          "text": [
            "Number of rows with missing values: 12926\n",
            "\n",
            "Remaining missing values:\n",
            "0\n"
          ]
        }
      ]
    },
    {
      "cell_type": "code",
      "source": [
        "# Detect and remove outliers using IQR\n",
        "\n",
        "# List of numeric columns\n",
        "numeric_columns = [ 'age', 'stress_level', 'number_of_notifications',\n",
        "        'work_hours_per_day', 'breaks_during_work', 'job_satisfaction_score',\n",
        "        'coffee_consumption_per_day', 'days_feeling_burnout_per_month',\n",
        "        'weekly_offline_hours', 'daily_social_media_time', 'screen_time_before_sleep',\n",
        "        'perceived_productivity_score', 'actual_productivity_score', 'sleep_hours'\n",
        "]\n",
        "\n",
        "for col in numeric_columns:\n",
        "    Q1 = df[col].quantile(0.25)\n",
        "    Q3 = df[col].quantile(0.75)\n",
        "    IQR = Q3 - Q1\n",
        "    lower_bound = Q1 - 1.5 * IQR\n",
        "    upper_bound = Q3 + 1.5 * IQR\n",
        "    outliers = df[(df[col] < lower_bound) | (df[col] > upper_bound)]\n",
        "\n",
        "    # Remove outliers\n",
        "    df = df[(df[col] >= lower_bound) & (df[col] <= upper_bound)]"
      ],
      "metadata": {
        "id": "3ymC5wxInCgG"
      },
      "execution_count": 129,
      "outputs": []
    },
    {
      "cell_type": "code",
      "source": [
        "# Remove redundant/uninformative variables\n",
        "\n",
        "columns_to_remove = ['uses_focus_apps' , 'has_digital_wellbeing_enabled', 'coffee_consumption_per_day', 'perceived_productivity_score']\n",
        "df.drop(columns=columns_to_remove, axis=1, inplace=True)\n"
      ],
      "metadata": {
        "id": "LB6vnr0cnFRQ"
      },
      "execution_count": 130,
      "outputs": []
    },
    {
      "cell_type": "code",
      "source": [
        "# Encode categorical features\n",
        "\n",
        "categorical_features = df.select_dtypes(include=['object', 'bool']).columns.tolist()\n",
        "categorical_features.remove('social_platform_preference')  # exclude target\n",
        "numerical_features = df.select_dtypes(include=['int64', 'float64']).columns.tolist()\n",
        "\n",
        "# Define preprocessing\n",
        "numeric_imputer = SimpleImputer(strategy='median')\n",
        "numeric_scaler = StandardScaler()\n",
        "categorical_imputer = SimpleImputer(strategy='most_frequent')\n",
        "categorical_encoder = OneHotEncoder(drop='first', handle_unknown='ignore', sparse_output=False)\n",
        "\n",
        "# Create column transformer\n",
        "preprocessor = ColumnTransformer(transformers=[\n",
        "    ('num', Pipeline(steps=[\n",
        "        ('imputer', numeric_imputer),\n",
        "        ('scaler', numeric_scaler)\n",
        "    ]), numerical_features),\n",
        "    ('cat', Pipeline(steps=[\n",
        "        ('imputer', categorical_imputer),\n",
        "        ('encoder', categorical_encoder)\n",
        "    ]), categorical_features)\n",
        "])\n",
        "\n",
        "# Separate features and target\n",
        "y = df['social_platform_preference']\n",
        "X = df.drop(columns=['social_platform_preference'])\n",
        "\n",
        "X_processed = preprocessor.fit_transform(X)\n",
        "\n",
        "# Get feature names after transformation\n",
        "encoded_cat_features = preprocessor.named_transformers_['cat']['encoder'].get_feature_names_out(categorical_features)\n",
        "processed_feature_names = numerical_features + list(encoded_cat_features)\n",
        "\n",
        "X_processed.shape, pd.DataFrame(X_processed, columns=processed_feature_names).head()\n"
      ],
      "metadata": {
        "colab": {
          "base_uri": "https://localhost:8080/"
        },
        "id": "BsEOMnjCnHY7",
        "outputId": "df1614b9-884c-41a9-f95b-993453ae5d2a"
      },
      "execution_count": 131,
      "outputs": [
        {
          "output_type": "execute_result",
          "data": {
            "text/plain": [
              "((16503, 19),\n",
              "         age  daily_social_media_time  number_of_notifications  \\\n",
              " 0  1.052543                 0.616135                 0.149256   \n",
              " 1  0.329017                 0.113952                -0.117653   \n",
              " 2  1.052543                 0.724046                 0.015801   \n",
              " 3 -0.394509                 0.566651                -1.452200   \n",
              " 4 -0.973329                 0.163535                -0.384563   \n",
              " \n",
              "    work_hours_per_day  actual_productivity_score  stress_level  sleep_hours  \\\n",
              " 0           -0.134138                   1.242078     -0.530539    -0.953130   \n",
              " 1            1.096206                   0.115401      0.515433    -0.961811   \n",
              " 2           -1.586291                   0.545265      0.515433     0.716898   \n",
              " 3           -0.232480                  -1.324783     -0.530539    -0.123394   \n",
              " 4            2.039813                   1.608564     -0.530539    -1.752007   \n",
              " \n",
              "    screen_time_before_sleep  breaks_during_work  \\\n",
              " 0                 -0.927810            0.944959   \n",
              " 1                 -0.536449            0.630829   \n",
              " 2                  1.914988           -0.311560   \n",
              " 3                 -0.417872           -0.939819   \n",
              " 4                  0.017252            0.002570   \n",
              " \n",
              "    days_feeling_burnout_per_month  weekly_offline_hours  \\\n",
              " 0                       -0.491118              1.635545   \n",
              " 1                        1.022790             -1.444628   \n",
              " 2                        0.482108              1.938663   \n",
              " 3                        1.455335             -0.261890   \n",
              " 4                       -1.356208              0.453803   \n",
              " \n",
              "    job_satisfaction_score  gender_Male  gender_Other  job_type_Finance  \\\n",
              " 0                0.651924          1.0           0.0               0.0   \n",
              " 1               -0.721564          1.0           0.0               0.0   \n",
              " 2                0.259587          0.0           0.0               0.0   \n",
              " 3               -0.706558          0.0           0.0               0.0   \n",
              " 4                2.097598          1.0           0.0               0.0   \n",
              " \n",
              "    job_type_Health  job_type_IT  job_type_Student  job_type_Unemployed  \n",
              " 0              0.0          0.0               0.0                  1.0  \n",
              " 1              1.0          0.0               0.0                  0.0  \n",
              " 2              0.0          0.0               0.0                  1.0  \n",
              " 3              0.0          0.0               0.0                  0.0  \n",
              " 4              0.0          1.0               0.0                  0.0  )"
            ]
          },
          "metadata": {},
          "execution_count": 131
        }
      ]
    },
    {
      "cell_type": "markdown",
      "source": [
        "#DIY Classification (logistic regression)"
      ],
      "metadata": {
        "id": "QKcSnVF1vMOs"
      }
    },
    {
      "cell_type": "code",
      "source": [
        "# Encode target labels as integers for DIY implementation\n",
        "label_encoder = LabelEncoder()\n",
        "y_encoded = label_encoder.fit_transform(y)\n",
        "\n",
        "# Split the preprocessed dataset for DIY model training and testing\n",
        "from sklearn.model_selection import train_test_split\n",
        "X_train, X_test, y_train, y_test = train_test_split(X_processed, y_encoded, test_size=0.2, random_state=42, stratify=y_encoded)"
      ],
      "metadata": {
        "id": "oqLyPIMGvV6M"
      },
      "execution_count": 135,
      "outputs": []
    },
    {
      "cell_type": "code",
      "source": [
        "# Implementing Multinomial Logistic Regression from scratch using softmax\n",
        "class SoftmaxRegression:\n",
        "    def __init__(self, learning_rate=0.1, epochs=1000):\n",
        "        self.learning_rate = learning_rate\n",
        "        self.epochs = epochs\n",
        "\n",
        "    def _softmax(self, z):\n",
        "        exp_z = np.exp(z - np.max(z, axis=1, keepdims=True))  # stability\n",
        "        return exp_z / np.sum(exp_z, axis=1, keepdims=True)\n",
        "\n",
        "    def fit(self, X, y):\n",
        "        self.num_classes = np.max(y) + 1\n",
        "        self.num_features = X.shape[1]\n",
        "        self.theta = np.zeros((self.num_features, self.num_classes))\n",
        "\n",
        "        y_one_hot = np.eye(self.num_classes)[y]\n",
        "\n",
        "        for _ in range(self.epochs):\n",
        "            scores = np.dot(X, self.theta)\n",
        "            probs = self._softmax(scores)\n",
        "            error = probs - y_one_hot\n",
        "            grad = np.dot(X.T, error) / X.shape[0]\n",
        "            self.theta -= self.learning_rate * grad\n",
        "\n",
        "    def predict(self, X):\n",
        "        scores = np.dot(X, self.theta)\n",
        "        probs = self._softmax(scores)\n",
        "        return np.argmax(probs, axis=1)"
      ],
      "metadata": {
        "id": "9RsGvPKfwByz"
      },
      "execution_count": 136,
      "outputs": []
    },
    {
      "cell_type": "code",
      "source": [
        "# Train the DIY softmax regression model\n",
        "diy_model = SoftmaxRegression(learning_rate=0.5, epochs=1000)\n",
        "diy_model.fit(X_train, y_train)\n",
        "y_pred_diy = diy_model.predict(X_test)\n",
        "\n",
        "# Train the scikit-learn model for comparison\n",
        "sk_model = LogisticRegression(multi_class='multinomial', solver='lbfgs', max_iter=1000)\n",
        "sk_model.fit(X_train, y_train)\n",
        "y_pred_sk = sk_model.predict(X_test)\n",
        "\n",
        "# Evaluate both models\n",
        "diy_report = classification_report(y_test, y_pred_diy, target_names=label_encoder.classes_, output_dict=True)\n",
        "sk_report = classification_report(y_test, y_pred_sk, target_names=label_encoder.classes_, output_dict=True)\n",
        "\n",
        "diy_report_summary = {k: diy_report[k]['f1-score'] for k in label_encoder.classes_}\n",
        "sk_report_summary = {k: sk_report[k]['f1-score'] for k in label_encoder.classes_}\n",
        "\n",
        "print(\"\\n\\nPlatform | DIY Classification | scikit-learn\\n\")\n",
        "for label in label_encoder.classes_:\n",
        "  print(f\"{label}   {round(diy_report[label]['f1-score'], 4)}   {round(sk_report[label]['f1-score'], 4)}\")"
      ],
      "metadata": {
        "colab": {
          "base_uri": "https://localhost:8080/"
        },
        "id": "7P-LJPv8wCW_",
        "outputId": "025e0e2f-d93c-4ce0-fd64-bded98bb6c5a"
      },
      "execution_count": 137,
      "outputs": [
        {
          "output_type": "stream",
          "name": "stderr",
          "text": [
            "/usr/local/lib/python3.11/dist-packages/sklearn/linear_model/_logistic.py:1247: FutureWarning: 'multi_class' was deprecated in version 1.5 and will be removed in 1.7. From then on, it will always use 'multinomial'. Leave it to its default value to avoid this warning.\n",
            "  warnings.warn(\n"
          ]
        },
        {
          "output_type": "stream",
          "name": "stdout",
          "text": [
            "\n",
            "\n",
            "Platform | DIY Classification | scikit-learn\n",
            "\n",
            "Facebook   0.1636   0.1605\n",
            "Instagram   0.1662   0.1527\n",
            "Telegram   0.2031   0.2021\n",
            "TikTok   0.2663   0.2581\n",
            "Twitter   0.1786   0.2023\n"
          ]
        }
      ]
    },
    {
      "cell_type": "markdown",
      "source": [
        "# Feature selection/engineering"
      ],
      "metadata": {
        "id": "qwPlnzyPyzcu"
      }
    },
    {
      "cell_type": "code",
      "source": [
        "# Check class distribution for `social_platform_preference`\n",
        "class_distribution = df['social_platform_preference'].value_counts()\n",
        "\n",
        "class_distribution"
      ],
      "metadata": {
        "colab": {
          "base_uri": "https://localhost:8080/",
          "height": 272
        },
        "id": "WS2giURIy4Pb",
        "outputId": "b2948f64-12df-4758-f1db-be0fb18fab21"
      },
      "execution_count": 138,
      "outputs": [
        {
          "output_type": "execute_result",
          "data": {
            "text/plain": [
              "social_platform_preference\n",
              "TikTok       3373\n",
              "Twitter      3324\n",
              "Instagram    3283\n",
              "Telegram     3269\n",
              "Facebook     3254\n",
              "Name: count, dtype: int64"
            ],
            "text/html": [
              "<div>\n",
              "<style scoped>\n",
              "    .dataframe tbody tr th:only-of-type {\n",
              "        vertical-align: middle;\n",
              "    }\n",
              "\n",
              "    .dataframe tbody tr th {\n",
              "        vertical-align: top;\n",
              "    }\n",
              "\n",
              "    .dataframe thead th {\n",
              "        text-align: right;\n",
              "    }\n",
              "</style>\n",
              "<table border=\"1\" class=\"dataframe\">\n",
              "  <thead>\n",
              "    <tr style=\"text-align: right;\">\n",
              "      <th></th>\n",
              "      <th>count</th>\n",
              "    </tr>\n",
              "    <tr>\n",
              "      <th>social_platform_preference</th>\n",
              "      <th></th>\n",
              "    </tr>\n",
              "  </thead>\n",
              "  <tbody>\n",
              "    <tr>\n",
              "      <th>TikTok</th>\n",
              "      <td>3373</td>\n",
              "    </tr>\n",
              "    <tr>\n",
              "      <th>Twitter</th>\n",
              "      <td>3324</td>\n",
              "    </tr>\n",
              "    <tr>\n",
              "      <th>Instagram</th>\n",
              "      <td>3283</td>\n",
              "    </tr>\n",
              "    <tr>\n",
              "      <th>Telegram</th>\n",
              "      <td>3269</td>\n",
              "    </tr>\n",
              "    <tr>\n",
              "      <th>Facebook</th>\n",
              "      <td>3254</td>\n",
              "    </tr>\n",
              "  </tbody>\n",
              "</table>\n",
              "</div><br><label><b>dtype:</b> int64</label>"
            ]
          },
          "metadata": {},
          "execution_count": 138
        }
      ]
    },
    {
      "cell_type": "code",
      "source": [
        "# Create a binary categorical variable\n",
        "\n",
        "# Define TikTok and Instagram as 'Visual', others as 'Text'\n",
        "df['platform_type'] = df['social_platform_preference'].apply(\n",
        "    lambda x: 'Visual' if x in ['TikTok', 'Instagram'] else 'Text'\n",
        ")\n",
        "\n",
        "# Check class distribution of new binary variable\n",
        "binary_distribution = df['platform_type'].value_counts()\n",
        "\n",
        "binary_distribution"
      ],
      "metadata": {
        "colab": {
          "base_uri": "https://localhost:8080/",
          "height": 178
        },
        "id": "2awumCbL0lZ3",
        "outputId": "7b21156c-1995-43d0-ab45-ddea02064568"
      },
      "execution_count": 139,
      "outputs": [
        {
          "output_type": "execute_result",
          "data": {
            "text/plain": [
              "platform_type\n",
              "Text      9847\n",
              "Visual    6656\n",
              "Name: count, dtype: int64"
            ],
            "text/html": [
              "<div>\n",
              "<style scoped>\n",
              "    .dataframe tbody tr th:only-of-type {\n",
              "        vertical-align: middle;\n",
              "    }\n",
              "\n",
              "    .dataframe tbody tr th {\n",
              "        vertical-align: top;\n",
              "    }\n",
              "\n",
              "    .dataframe thead th {\n",
              "        text-align: right;\n",
              "    }\n",
              "</style>\n",
              "<table border=\"1\" class=\"dataframe\">\n",
              "  <thead>\n",
              "    <tr style=\"text-align: right;\">\n",
              "      <th></th>\n",
              "      <th>count</th>\n",
              "    </tr>\n",
              "    <tr>\n",
              "      <th>platform_type</th>\n",
              "      <th></th>\n",
              "    </tr>\n",
              "  </thead>\n",
              "  <tbody>\n",
              "    <tr>\n",
              "      <th>Text</th>\n",
              "      <td>9847</td>\n",
              "    </tr>\n",
              "    <tr>\n",
              "      <th>Visual</th>\n",
              "      <td>6656</td>\n",
              "    </tr>\n",
              "  </tbody>\n",
              "</table>\n",
              "</div><br><label><b>dtype:</b> int64</label>"
            ]
          },
          "metadata": {},
          "execution_count": 139
        }
      ]
    },
    {
      "cell_type": "code",
      "source": [
        "# Encode the new binary target variable\n",
        "binary_target_encoded = label_encoder.fit_transform(df['platform_type'])"
      ],
      "metadata": {
        "id": "G0jWSTwP3PM2"
      },
      "execution_count": 140,
      "outputs": []
    },
    {
      "cell_type": "markdown",
      "source": [
        "# Model evaluation"
      ],
      "metadata": {
        "id": "6oJJeBsv1iQp"
      }
    },
    {
      "cell_type": "code",
      "source": [
        "# Feature Set 1: All features\n",
        "X_features1 = X_processed\n",
        "\n",
        "# Feature Set 2: Top 10 features\n",
        "selector = SelectKBest(score_func=f_classif, k=10)\n",
        "X_features2 = selector.fit_transform(X_processed, binary_target_encoded)\n",
        "\n",
        "# Split into train/test sets for both feature sets\n",
        "X1_train, X1_test, y1_train, y1_test = train_test_split(\n",
        "    X_features1, binary_target_encoded, test_size=0.2, random_state=42, stratify=binary_target_encoded\n",
        ")\n",
        "X2_train, X2_test, y2_train, y2_test = train_test_split(\n",
        "    X_features2, binary_target_encoded, test_size=0.2, random_state=42, stratify=binary_target_encoded\n",
        ")"
      ],
      "metadata": {
        "id": "xvMplFZf1nKW"
      },
      "execution_count": 141,
      "outputs": []
    },
    {
      "cell_type": "code",
      "source": [
        "# Train models\n",
        "rf1 = RandomForestClassifier(random_state=42).fit(X1_train, y1_train)\n",
        "rf2 = RandomForestClassifier(random_state=42).fit(X2_train, y2_train)\n",
        "knn1 = KNeighborsClassifier(n_neighbors=5).fit(X1_train, y1_train)\n",
        "knn2 = KNeighborsClassifier(n_neighbors=5).fit(X2_train, y2_train)\n",
        "\n",
        "# Predictions\n",
        "rf1_preds = rf1.predict(X1_test)\n",
        "rf2_preds = rf2.predict(X2_test)\n",
        "knn1_preds = knn1.predict(X1_test)\n",
        "knn2_preds = knn2.predict(X2_test)\n",
        "\n",
        "# Evaluation\n",
        "rf1_report = classification_report(y1_test, rf1_preds, target_names=label_encoder.classes_, output_dict=True)\n",
        "rf2_report = classification_report(y2_test, rf2_preds, target_names=label_encoder.classes_, output_dict=True)\n",
        "knn1_report = classification_report(y1_test, knn1_preds, target_names=label_encoder.classes_, output_dict=True)\n",
        "knn2_report = classification_report(y2_test, knn2_preds, target_names=label_encoder.classes_, output_dict=True)\n",
        "\n",
        "# Extract F1-scores\n",
        "results = {\n",
        "    \"Random Forest (All features)\": {k: rf1_report[k]['f1-score'] for k in label_encoder.classes_},\n",
        "    \"Random Forest (Top 10 features)\": {k: rf2_report[k]['f1-score'] for k in label_encoder.classes_},\n",
        "    \"KNN (All features)\": {k: knn1_report[k]['f1-score'] for k in label_encoder.classes_},\n",
        "    \"KNN (Top 10 features)\": {k: knn2_report[k]['f1-score'] for k in label_encoder.classes_},\n",
        "}\n",
        "\n",
        "for name, result in results.items():\n",
        "  text_val = f\"{result['Text']:.4f}\"\n",
        "  visual_val = f\"{result['Visual']:.4f}\"\n",
        "  print(f\"{name}  Text={text_val}  Visual={visual_val}\")"
      ],
      "metadata": {
        "colab": {
          "base_uri": "https://localhost:8080/"
        },
        "id": "gWaIXkgn5jJ8",
        "outputId": "4786cc27-4d45-4cd8-d591-c5ca01f5036b"
      },
      "execution_count": 142,
      "outputs": [
        {
          "output_type": "stream",
          "name": "stdout",
          "text": [
            "Random Forest (All features)  Text=0.7166  Visual=0.1284\n",
            "Random Forest (Top 10 features)  Text=0.6966  Visual=0.1901\n",
            "KNN (All features)  Text=0.6409  Visual=0.3734\n",
            "KNN (Top 10 features)  Text=0.6338  Visual=0.3541\n"
          ]
        }
      ]
    },
    {
      "cell_type": "code",
      "source": [
        "# Create confusion matrix plots\n",
        "models = {\n",
        "    \"RF (All Features)\": (y1_test, rf1_preds),\n",
        "    \"RF (Top 10 Features)\": (y2_test, rf2_preds),\n",
        "    \"KNN (All Features)\": (y1_test, knn1_preds),\n",
        "    \"KNN (Top 10 Features)\": (y2_test, knn2_preds)\n",
        "}\n",
        "\n",
        "fig, axes = plt.subplots(2, 2, figsize=(12, 10))\n",
        "axes = axes.flatten()\n",
        "\n",
        "for i, (title, (true, pred)) in enumerate(models.items()):\n",
        "    cm = confusion_matrix(true, pred)\n",
        "    sns.heatmap(cm, annot=True, fmt=\"d\", cmap=\"Blues\", xticklabels=label_encoder.classes_,\n",
        "                yticklabels=label_encoder.classes_, ax=axes[i])\n",
        "    axes[i].set_title(title)\n",
        "    axes[i].set_xlabel(\"Predicted\")\n",
        "    axes[i].set_ylabel(\"Actual\")\n",
        "\n",
        "plt.tight_layout()\n",
        "plt.show()"
      ],
      "metadata": {
        "colab": {
          "base_uri": "https://localhost:8080/",
          "height": 1000
        },
        "id": "o8f7vi-Z8p3D",
        "outputId": "c483bcd1-8af5-4435-fa85-45d183ed1fd3"
      },
      "execution_count": 143,
      "outputs": [
        {
          "output_type": "display_data",
          "data": {
            "text/plain": [
              "<Figure size 1200x1000 with 8 Axes>"
            ],
            "image/png": "[encoded data removed]"
          },
          "metadata": {}
        }
      ]
    },
    {
      "cell_type": "markdown",
      "source": [
        "# Model tuning"
      ],
      "metadata": {
        "id": "ipQ_G09e_J-j"
      }
    },
    {
      "cell_type": "code",
      "source": [
        "param_grid = {\n",
        "    'n_estimators': [100, 200],\n",
        "    'max_depth': [10, 20],\n",
        "    'min_samples_split': [2, 5]\n",
        "}\n",
        "\n",
        "cv = StratifiedKFold(n_splits=5, shuffle=True, random_state=42)\n",
        "\n",
        "grid_search = GridSearchCV(RandomForestClassifier(class_weight='balanced', random_state=42), param_grid,\n",
        "                           scoring='f1_macro', cv=cv, n_jobs=-1, verbose=2)\n",
        "grid_search.fit(X1_train, y1_train)\n",
        "\n",
        "best_rf = grid_search.best_estimator_\n",
        "y_pred_tuned = best_rf.predict(X1_test)\n",
        "\n",
        "print(\"\\n[Best Parameters]\")\n",
        "print(grid_search.best_params_)\n",
        "print(\"Best Cross-Validated F1 Macro Score: {:.4f}\".format(grid_search.best_score_))"
      ],
      "metadata": {
        "colab": {
          "base_uri": "https://localhost:8080/"
        },
        "id": "EoiZ1yXn-XzE",
        "outputId": "833619e7-0631-4e2b-e3c4-287fc436846d"
      },
      "execution_count": 144,
      "outputs": [
        {
          "output_type": "stream",
          "name": "stdout",
          "text": [
            "Fitting 5 folds for each of 8 candidates, totalling 40 fits\n",
            "\n",
            "[Best Parameters]\n",
            "{'max_depth': 10, 'min_samples_split': 5, 'n_estimators': 100}\n",
            "Best Cross-Validated F1 Macro Score: 0.5087\n"
          ]
        }
      ]
    },
    {
      "cell_type": "code",
      "source": [
        "print(\"\\n[Tuned Model Report]\")\n",
        "print(classification_report(y1_test, y_pred_tuned, target_names=label_encoder.classes_))"
      ],
      "metadata": {
        "colab": {
          "base_uri": "https://localhost:8080/"
        },
        "id": "dJ53RKLUAWAL",
        "outputId": "61cda59e-4ac3-457d-d735-5dd50998ec38"
      },
      "execution_count": 145,
      "outputs": [
        {
          "output_type": "stream",
          "name": "stdout",
          "text": [
            "\n",
            "[Tuned Model Report]\n",
            "              precision    recall  f1-score   support\n",
            "\n",
            "        Text       0.59      0.62      0.60      1970\n",
            "      Visual       0.39      0.36      0.37      1331\n",
            "\n",
            "    accuracy                           0.51      3301\n",
            "   macro avg       0.49      0.49      0.49      3301\n",
            "weighted avg       0.51      0.51      0.51      3301\n",
            "\n"
          ]
        }
      ]
    },
    {
      "cell_type": "code",
      "source": [
        "# Confusion Matrix for Tuned Model\n",
        "cm_tuned = confusion_matrix(y1_test, y_pred_tuned)\n",
        "plt.figure(figsize=(6, 4))\n",
        "sns.heatmap(cm_tuned, annot=True, fmt='d', cmap='Greens', xticklabels=label_encoder.classes_, yticklabels=label_encoder.classes_)\n",
        "plt.title(\"Confusion Matrix - Tuned RF\")\n",
        "plt.xlabel(\"Predicted\")\n",
        "plt.ylabel(\"Actual\")\n",
        "plt.tight_layout()\n",
        "plt.show()"
      ],
      "metadata": {
        "colab": {
          "base_uri": "https://localhost:8080/",
          "height": 407
        },
        "id": "qzY_aZlM_-kX",
        "outputId": "3b383601-9e13-4109-93d9-b78348c61857"
      },
      "execution_count": 146,
      "outputs": [
        {
          "output_type": "display_data",
          "data": {
            "text/plain": [
              "<Figure size 600x400 with 2 Axes>"
            ],
            "image/png": "[encoded data removed]"
          },
          "metadata": {}
        }
      ]
    },
    {
      "cell_type": "markdown",
      "source": [
        "Random Forest (All features)  Text=0.7166  Visual=0.1284\n",
        "\n",
        "Tuned Random Forest (All features)  Text=0.60  Visual=0.37"
      ],
      "metadata": {
        "id": "ugrWNpm_MhpA"
      }
    }
  ]
}